{
 "cells": [
  {
   "cell_type": "code",
   "execution_count": 1,
   "metadata": {
    "collapsed": false
   },
   "outputs": [
    {
     "data": {
      "application/vnd.jupyter.widget-view+json": {
       "model_id": "c20a5460d8434b3da2b7d10bad66d5a9",
       "version_major": 2,
       "version_minor": 0
      },
      "text/plain": [
       "VBox()"
      ]
     },
     "metadata": {},
     "output_type": "display_data"
    },
    {
     "name": "stdout",
     "output_type": "stream",
     "text": [
      "Starting Spark application\n"
     ]
    },
    {
     "data": {
      "text/html": [
       "<table>\n",
       "<tr><th>ID</th><th>YARN Application ID</th><th>Kind</th><th>State</th><th>Spark UI</th><th>Driver log</th><th>Current session?</th></tr><tr><td>0</td><td>application_1558424760139_0001</td><td>pyspark</td><td>idle</td><td><a target=\"_blank\" href=\"http://ip-172-31-2-131.us-east-2.compute.internal:20888/proxy/application_1558424760139_0001/\">Link</a></td><td><a target=\"_blank\" href=\"http://ip-172-31-2-131.us-east-2.compute.internal:8042/node/containerlogs/container_1558424760139_0001_01_000001/livy\">Link</a></td><td>✔</td></tr></table>"
      ],
      "text/plain": [
       "<IPython.core.display.HTML object>"
      ]
     },
     "metadata": {},
     "output_type": "display_data"
    },
    {
     "name": "stdout",
     "output_type": "stream",
     "text": [
      "SparkSession available as 'spark'.\n"
     ]
    }
   ],
   "source": [
    "from pyspark.sql import SparkSession\n",
    "from pyspark.sql.types import StructType, StructField, StringType,IntegerType, FloatType\n",
    "import numpy as np\n",
    "import pyspark.sql.functions as func\n",
    "from pyspark.sql.functions import udf"
   ]
  },
  {
   "cell_type": "markdown",
   "metadata": {},
   "source": [
    "# Stage One"
   ]
  },
  {
   "cell_type": "code",
   "execution_count": 2,
   "metadata": {
    "collapsed": false
   },
   "outputs": [
    {
     "data": {
      "application/vnd.jupyter.widget-view+json": {
       "model_id": "293dba17ce8f453e8149b4fbda624fc1",
       "version_major": 2,
       "version_minor": 0
      },
      "text/plain": [
       "VBox()"
      ]
     },
     "metadata": {},
     "output_type": "display_data"
    }
   ],
   "source": [
    "spark = SparkSession \\\n",
    "    .builder \\\n",
    "    .appName(\"Assignment II\") \\\n",
    "    .getOrCreate()"
   ]
  },
  {
   "cell_type": "code",
   "execution_count": 3,
   "metadata": {
    "collapsed": false
   },
   "outputs": [
    {
     "data": {
      "application/vnd.jupyter.widget-view+json": {
       "model_id": "aa4f0f1446744fc49bedc0e3702c85d8",
       "version_major": 2,
       "version_minor": 0
      },
      "text/plain": [
       "VBox()"
      ]
     },
     "metadata": {},
     "output_type": "display_data"
    }
   ],
   "source": [
    "rev_data = \"s3://amazon-reviews-pds/tsv/amazon_reviews_us_Music_v1_00.tsv.gz\"\n"
   ]
  },
  {
   "cell_type": "code",
   "execution_count": 4,
   "metadata": {
    "collapsed": false
   },
   "outputs": [
    {
     "data": {
      "application/vnd.jupyter.widget-view+json": {
       "model_id": "14a1b4791cb448faae653b6b153b40be",
       "version_major": 2,
       "version_minor": 0
      },
      "text/plain": [
       "VBox()"
      ]
     },
     "metadata": {},
     "output_type": "display_data"
    }
   ],
   "source": [
    "data = spark.read.csv(rev_data,header=True,sep='\\t')#.cache()"
   ]
  },
  {
   "cell_type": "code",
   "execution_count": 5,
   "metadata": {
    "collapsed": false
   },
   "outputs": [
    {
     "data": {
      "application/vnd.jupyter.widget-view+json": {
       "model_id": "ee8bbabaa6e3403586b03b3fd87903d9",
       "version_major": 2,
       "version_minor": 0
      },
      "text/plain": [
       "VBox()"
      ]
     },
     "metadata": {},
     "output_type": "display_data"
    }
   ],
   "source": [
    "valid_data = data.select('customer_id','review_id','product_id','star_rating','review_body').cache()"
   ]
  },
  {
   "cell_type": "code",
   "execution_count": 6,
   "metadata": {
    "collapsed": false
   },
   "outputs": [
    {
     "data": {
      "application/vnd.jupyter.widget-view+json": {
       "model_id": "5664c976c4354344b9313af3f1eff722",
       "version_major": 2,
       "version_minor": 0
      },
      "text/plain": [
       "VBox()"
      ]
     },
     "metadata": {},
     "output_type": "display_data"
    },
    {
     "name": "stdout",
     "output_type": "stream",
     "text": [
      "+-----------+--------------+----------+-----------+--------------------+\n",
      "|customer_id|     review_id|product_id|star_rating|         review_body|\n",
      "+-----------+--------------+----------+-----------+--------------------+\n",
      "|   10140119|R3LI5TRP3YIDQL|B00TXH4OLC|          5|Love this CD alon...|\n",
      "|   27664622|R3LGC3EKEG84PX|B00B6QXN6U|          5|This is the album...|\n",
      "|   45946560| R9PYL3OYH55QY|B001GCZXW6|          5|  Excellent / thanks|\n",
      "|   15146326|R3PWBAWUS4NT0Q|B000003EK6|          3|Nice variety of c...|\n",
      "|   16794688|R15LYP3O51UU9E|B00N1F0BKK|          5|Purchased as a gi...|\n",
      "+-----------+--------------+----------+-----------+--------------------+\n",
      "only showing top 5 rows"
     ]
    }
   ],
   "source": [
    "valid_data.show(5)"
   ]
  },
  {
   "cell_type": "code",
   "execution_count": 7,
   "metadata": {
    "collapsed": false
   },
   "outputs": [
    {
     "data": {
      "application/vnd.jupyter.widget-view+json": {
       "model_id": "b68c7119585e40e39899b155679a9c74",
       "version_major": 2,
       "version_minor": 0
      },
      "text/plain": [
       "VBox()"
      ]
     },
     "metadata": {},
     "output_type": "display_data"
    }
   ],
   "source": [
    "reviews = valid_data.select('review_id').count()"
   ]
  },
  {
   "cell_type": "code",
   "execution_count": 8,
   "metadata": {
    "collapsed": false
   },
   "outputs": [
    {
     "data": {
      "application/vnd.jupyter.widget-view+json": {
       "model_id": "3f2ea46f68d94699a16e410c54bc2cf7",
       "version_major": 2,
       "version_minor": 0
      },
      "text/plain": [
       "VBox()"
      ]
     },
     "metadata": {},
     "output_type": "display_data"
    }
   ],
   "source": [
    "# use distinct function to eliminate duplicate data\n",
    "users = valid_data.select('customer_id').distinct().count()"
   ]
  },
  {
   "cell_type": "code",
   "execution_count": 9,
   "metadata": {
    "collapsed": false
   },
   "outputs": [
    {
     "data": {
      "application/vnd.jupyter.widget-view+json": {
       "model_id": "7f1dc1ae62dd466bb1053bdc119590a3",
       "version_major": 2,
       "version_minor": 0
      },
      "text/plain": [
       "VBox()"
      ]
     },
     "metadata": {},
     "output_type": "display_data"
    }
   ],
   "source": [
    "products = valid_data.select('product_id').distinct().count()"
   ]
  },
  {
   "cell_type": "code",
   "execution_count": 10,
   "metadata": {
    "collapsed": false
   },
   "outputs": [
    {
     "data": {
      "application/vnd.jupyter.widget-view+json": {
       "model_id": "4b4a840c55f1446da7254f728a739d72",
       "version_major": 2,
       "version_minor": 0
      },
      "text/plain": [
       "VBox()"
      ]
     },
     "metadata": {},
     "output_type": "display_data"
    },
    {
     "name": "stdout",
     "output_type": "stream",
     "text": [
      "there are 4751577 reviews of 782326 different products contributed by 1940732 different users."
     ]
    }
   ],
   "source": [
    "print(\"there are {} reviews of {} different products contributed by {} different users.\".format(reviews, products, users))\n"
   ]
  },
  {
   "cell_type": "code",
   "execution_count": 11,
   "metadata": {
    "collapsed": false
   },
   "outputs": [
    {
     "data": {
      "application/vnd.jupyter.widget-view+json": {
       "model_id": "11773a6c27b642cabf9cd06ef66c6dc0",
       "version_major": 2,
       "version_minor": 0
      },
      "text/plain": [
       "VBox()"
      ]
     },
     "metadata": {},
     "output_type": "display_data"
    }
   ],
   "source": [
    "#user_review = valid_data.groupby('customer_id').count().withColumnRenamed('count','reviews_contributed').cache()\n",
    "user_review = valid_data.groupby('customer_id').count().orderBy(-func.col(\"count\")).cache()\n"
   ]
  },
  {
   "cell_type": "code",
   "execution_count": 12,
   "metadata": {
    "collapsed": false
   },
   "outputs": [
    {
     "data": {
      "application/vnd.jupyter.widget-view+json": {
       "model_id": "c272628595fe4a5f84b56a2b65365a66",
       "version_major": 2,
       "version_minor": 0
      },
      "text/plain": [
       "VBox()"
      ]
     },
     "metadata": {},
     "output_type": "display_data"
    },
    {
     "name": "stdout",
     "output_type": "stream",
     "text": [
      "largest number of reviews published by a single user is 7168 published by user 50736950"
     ]
    }
   ],
   "source": [
    "# largest number of reviews published by a single user\n",
    "first_user = user_review.first()\n",
    "print(\"largest number of reviews published by a single user is\",first_user[1],\"published by user\",first_user[0])\n"
   ]
  },
  {
   "cell_type": "code",
   "execution_count": 26,
   "metadata": {
    "collapsed": false
   },
   "outputs": [
    {
     "data": {
      "application/vnd.jupyter.widget-view+json": {
       "model_id": "9c6128a82641417195c5f70afd43e0ac",
       "version_major": 2,
       "version_minor": 0
      },
      "text/plain": [
       "VBox()"
      ]
     },
     "metadata": {},
     "output_type": "display_data"
    },
    {
     "name": "stdout",
     "output_type": "stream",
     "text": [
      "+-----------+-----+\n",
      "|customer_id|count|\n",
      "+-----------+-----+\n",
      "|   50736950| 7168|\n",
      "|   38214553| 5412|\n",
      "|   51184997| 5369|\n",
      "|   18116317| 4222|\n",
      "|   23267387| 4023|\n",
      "|   50345651| 3793|\n",
      "|   14539589| 2896|\n",
      "|   15725862| 2842|\n",
      "|   19380211| 2592|\n",
      "|   20018062| 2568|\n",
      "+-----------+-----+\n",
      "only showing top 10 rows"
     ]
    }
   ],
   "source": [
    "# the top 10 users ranked by the number of reviews they publish\n",
    "user_review.show(10)"
   ]
  },
  {
   "cell_type": "code",
   "execution_count": 14,
   "metadata": {
    "collapsed": false
   },
   "outputs": [
    {
     "data": {
      "application/vnd.jupyter.widget-view+json": {
       "model_id": "8076e993eaf246648b1af7327365ffff",
       "version_major": 2,
       "version_minor": 0
      },
      "text/plain": [
       "VBox()"
      ]
     },
     "metadata": {},
     "output_type": "display_data"
    },
    {
     "name": "stdout",
     "output_type": "stream",
     "text": [
      "the median number of reviews published by a user is [1.0]"
     ]
    }
   ],
   "source": [
    "# the median number of reviews published by a user\n",
    "user_median = user_review.approxQuantile(\"count\", [0.5], 0.01)\n",
    "print(\"the median number of reviews published by a user is\",user_median)"
   ]
  },
  {
   "cell_type": "code",
   "execution_count": 15,
   "metadata": {
    "collapsed": false
   },
   "outputs": [
    {
     "data": {
      "application/vnd.jupyter.widget-view+json": {
       "model_id": "a337b73839cc428ba740767af22ae170",
       "version_major": 2,
       "version_minor": 0
      },
      "text/plain": [
       "VBox()"
      ]
     },
     "metadata": {},
     "output_type": "display_data"
    }
   ],
   "source": [
    "#product_review = valid_data.groupby('product_id').count().withColumnRenamed('count','reviews_gained').cache()\n",
    "product_review = valid_data.groupby('product_id').count().orderBy(-func.col(\"count\")).cache()\n"
   ]
  },
  {
   "cell_type": "code",
   "execution_count": 18,
   "metadata": {
    "collapsed": false
   },
   "outputs": [
    {
     "data": {
      "application/vnd.jupyter.widget-view+json": {
       "model_id": "87179d2463984c4bb5c39afb67a9d28c",
       "version_major": 2,
       "version_minor": 0
      },
      "text/plain": [
       "VBox()"
      ]
     },
     "metadata": {},
     "output_type": "display_data"
    },
    {
     "name": "stdout",
     "output_type": "stream",
     "text": [
      "the largest number of reviews written for a single product is 3936"
     ]
    }
   ],
   "source": [
    "# the largest number of reviews written for a single product\n",
    "first_product = product_review.first()\n",
    "print(\"the largest number of reviews written for a single product is\",first_product[1])"
   ]
  },
  {
   "cell_type": "code",
   "execution_count": 36,
   "metadata": {
    "collapsed": false
   },
   "outputs": [
    {
     "data": {
      "application/vnd.jupyter.widget-view+json": {
       "model_id": "db58280be1704383ba881cd131e3b9d4",
       "version_major": 2,
       "version_minor": 0
      },
      "text/plain": [
       "VBox()"
      ]
     },
     "metadata": {},
     "output_type": "display_data"
    },
    {
     "name": "stdout",
     "output_type": "stream",
     "text": [
      "product B00008OWZG gained 3936 reviews in total\n",
      "product B0000AGWEC gained 3326 reviews in total\n",
      "product B00MIA0KGY gained 2699 reviews in total\n",
      "product B00NEJ7MMI gained 2420 reviews in total\n",
      "product B000089RVX gained 2376 reviews in total\n",
      "product B004EBT5CU gained 2106 reviews in total\n",
      "product B0026P3G12 gained 2080 reviews in total\n",
      "product B00009PRZF gained 2026 reviews in total\n",
      "product B00004XONN gained 1901 reviews in total\n",
      "product B00006J6VG gained 1793 reviews in total"
     ]
    }
   ],
   "source": [
    "# the top 10 products ranked by the number of reviews they have\n",
    "pr_top_ten = product_review.take(10)\n",
    "for one in pr_top_ten:\n",
    "    print(\"product {} gained {} reviews in total\".format(one[0],one[1]))\n",
    "    \n",
    "chosen_product = pr_top_ten[-1][0]"
   ]
  },
  {
   "cell_type": "code",
   "execution_count": 20,
   "metadata": {
    "collapsed": false
   },
   "outputs": [
    {
     "data": {
      "application/vnd.jupyter.widget-view+json": {
       "model_id": "194e65458e9346f88021e3ae2cf0f42a",
       "version_major": 2,
       "version_minor": 0
      },
      "text/plain": [
       "VBox()"
      ]
     },
     "metadata": {},
     "output_type": "display_data"
    },
    {
     "name": "stdout",
     "output_type": "stream",
     "text": [
      "the median number of reviews gained by a product is [2.0]"
     ]
    }
   ],
   "source": [
    "# the median number of reviews a product has\n",
    "product_median = product_review.approxQuantile(\"count\", [0.5], 0.01)\n",
    "print(\"the median number of reviews gained by a product is\",product_median)"
   ]
  },
  {
   "cell_type": "markdown",
   "metadata": {},
   "source": [
    "# Stage Two"
   ]
  },
  {
   "cell_type": "markdown",
   "metadata": {},
   "source": [
    "##### filtering phase"
   ]
  },
  {
   "cell_type": "code",
   "execution_count": 29,
   "metadata": {
    "collapsed": false
   },
   "outputs": [
    {
     "data": {
      "application/vnd.jupyter.widget-view+json": {
       "model_id": "8d08fc0f2075473a86258fe9179feba2",
       "version_major": 2,
       "version_minor": 0
      },
      "text/plain": [
       "VBox()"
      ]
     },
     "metadata": {},
     "output_type": "display_data"
    }
   ],
   "source": [
    "import re\n",
    "def sen_seg(text):\n",
    "    count = 0\n",
    "    if text is not None:\n",
    "        sentences = re.split(\"(?<!\\w\\.\\w.)(?<![A-Z][a-z]\\.)(?<=\\.|\\?|\\!)\\s\",text)\n",
    "        return len(sentences)    \n",
    "    else:\n",
    "        return count\n",
    "\n",
    "sen_seg_udf = udf(sen_seg, IntegerType())"
   ]
  },
  {
   "cell_type": "code",
   "execution_count": 30,
   "metadata": {
    "collapsed": false
   },
   "outputs": [
    {
     "data": {
      "application/vnd.jupyter.widget-view+json": {
       "model_id": "46d2cdf3bc2f4fe990ecce1b622fa46d",
       "version_major": 2,
       "version_minor": 0
      },
      "text/plain": [
       "VBox()"
      ]
     },
     "metadata": {},
     "output_type": "display_data"
    }
   ],
   "source": [
    "new_valid = valid_data.withColumn(\"reviews_count\", sen_seg_udf('review_body')).filter(func.col(\"reviews_count\") >= 2)\n"
   ]
  },
  {
   "cell_type": "code",
   "execution_count": 31,
   "metadata": {
    "collapsed": false
   },
   "outputs": [
    {
     "data": {
      "application/vnd.jupyter.widget-view+json": {
       "model_id": "1d47b71836ba4c59b76c317932e34090",
       "version_major": 2,
       "version_minor": 0
      },
      "text/plain": [
       "VBox()"
      ]
     },
     "metadata": {},
     "output_type": "display_data"
    }
   ],
   "source": [
    "# users with less than median number of reviews published\n",
    "valid_user = user_review.filter(user_review[\"count\"] > user_median[0]).select(\"customer_id\")\n"
   ]
  },
  {
   "cell_type": "code",
   "execution_count": 32,
   "metadata": {
    "collapsed": false
   },
   "outputs": [
    {
     "data": {
      "application/vnd.jupyter.widget-view+json": {
       "model_id": "558095f79f2647df80c264dbf92a6ba4",
       "version_major": 2,
       "version_minor": 0
      },
      "text/plain": [
       "VBox()"
      ]
     },
     "metadata": {},
     "output_type": "display_data"
    }
   ],
   "source": [
    "# filter reviews from products with less than median number of reviews received\n",
    "valid_product = product_review.filter(product_review[\"count\"] > product_median[0]).select(\"product_id\")"
   ]
  },
  {
   "cell_type": "code",
   "execution_count": 33,
   "metadata": {
    "collapsed": false
   },
   "outputs": [
    {
     "data": {
      "application/vnd.jupyter.widget-view+json": {
       "model_id": "f27dbf2635764c2ab8fe70c3ed6e2151",
       "version_major": 2,
       "version_minor": 0
      },
      "text/plain": [
       "VBox()"
      ]
     },
     "metadata": {},
     "output_type": "display_data"
    }
   ],
   "source": [
    "# join the three datasets to eliminate invalid data\n",
    "new_valid = new_valid.join(valid_product, \"product_id\").join(valid_user, \"customer_id\").cache()\n"
   ]
  },
  {
   "cell_type": "code",
   "execution_count": 34,
   "metadata": {
    "collapsed": false,
    "scrolled": false
   },
   "outputs": [
    {
     "data": {
      "application/vnd.jupyter.widget-view+json": {
       "model_id": "75df164ba6c44c5fb630fab337f94939",
       "version_major": 2,
       "version_minor": 0
      },
      "text/plain": [
       "VBox()"
      ]
     },
     "metadata": {},
     "output_type": "display_data"
    },
    {
     "name": "stdout",
     "output_type": "stream",
     "text": [
      "+-----------+----------+--------------+-----------+--------------------+-------------+\n",
      "|customer_id|product_id|     review_id|star_rating|         review_body|reviews_count|\n",
      "+-----------+----------+--------------+-----------+--------------------+-------------+\n",
      "|   10010810|B007WFQZUA| RQRZQXX7IOMFU|          3|First of all, one...|           10|\n",
      "|   10010810|B009KT0IE0| R53XG9B98548F|          5|While I can say I...|           10|\n",
      "|   10071733|B000LP4OII|R2PR1E0IE6173K|          3|I attended the fi...|           29|\n",
      "|   10071733|B000AARL3Y|R2XDR3IESA0H65|          4|Sony/BMG reached ...|            6|\n",
      "|   10071733|B000NY166K|R22IB7VR9WVJK6|          5|This collection o...|           15|\n",
      "+-----------+----------+--------------+-----------+--------------------+-------------+\n",
      "only showing top 5 rows"
     ]
    }
   ],
   "source": [
    "# will take around 4 minutes to get the cache.\n",
    "# after generatiing caches, subsequent calculations would be much faster \n",
    "new_valid.show(5)"
   ]
  },
  {
   "cell_type": "markdown",
   "metadata": {},
   "source": [
    "##### ranking phase"
   ]
  },
  {
   "cell_type": "code",
   "execution_count": 37,
   "metadata": {
    "collapsed": false
   },
   "outputs": [
    {
     "data": {
      "application/vnd.jupyter.widget-view+json": {
       "model_id": "f076bfec7a284f68b630b56372c9127f",
       "version_major": 2,
       "version_minor": 0
      },
      "text/plain": [
       "VBox()"
      ]
     },
     "metadata": {},
     "output_type": "display_data"
    },
    {
     "name": "stdout",
     "output_type": "stream",
     "text": [
      "+-----------+----------------------+\n",
      "|customer_id|customer_median_review|\n",
      "+-----------+----------------------+\n",
      "|   37118941|                   229|\n",
      "|   25628286|                   219|\n",
      "|   29580246|                   201|\n",
      "|   23717536|                   190|\n",
      "|   43879820|                   179|\n",
      "|   50595705|                   179|\n",
      "|   15585529|                   177|\n",
      "|   13255865|                   163|\n",
      "|   36306364|                   137|\n",
      "|   19493393|                   136|\n",
      "+-----------+----------------------+"
     ]
    }
   ],
   "source": [
    "from pyspark.sql.window import Window\n",
    "\n",
    "# The customer is segmented by the same id, find the median of the number of reviews included in each customer, \n",
    "# and display the top ten customers atfer sorting by medians \n",
    "customer_values = new_valid.select(\"customer_id\",\"reviews_count\")\n",
    "customer_values_window = Window.partitionBy(customer_values.customer_id)\n",
    "customer_median = func.expr('percentile_approx(reviews_count, 0.5)')\n",
    "\n",
    "customer_values.withColumn('customer_median_review', customer_median.over(customer_values_window)).drop(\"reviews_count\").distinct().orderBy(func.col(\"customer_median_review\").desc()).limit(10).show()\n"
   ]
  },
  {
   "cell_type": "code",
   "execution_count": 38,
   "metadata": {
    "collapsed": false
   },
   "outputs": [
    {
     "data": {
      "application/vnd.jupyter.widget-view+json": {
       "model_id": "d17faf1efc104101909b74387859bbd2",
       "version_major": 2,
       "version_minor": 0
      },
      "text/plain": [
       "VBox()"
      ]
     },
     "metadata": {},
     "output_type": "display_data"
    },
    {
     "name": "stdout",
     "output_type": "stream",
     "text": [
      "+----------+---------------------+\n",
      "|product_id|product_values_window|\n",
      "+----------+---------------------+\n",
      "|B00LTQ5EVY|                 1469|\n",
      "|B009SF2GZU|                  327|\n",
      "|B000003G29|                  267|\n",
      "|B000BCH5PK|                  210|\n",
      "|B0000C0FEW|                  200|\n",
      "|B00004UFUK|                  163|\n",
      "|B00AP5M4WM|                  162|\n",
      "|B004IMODZ4|                  146|\n",
      "|B00TIPIXIE|                  144|\n",
      "|B001GM7A6S|                  141|\n",
      "+----------+---------------------+"
     ]
    }
   ],
   "source": [
    "# The customer is segmented by the same id, find the median of the number of reviews included in each customer, \n",
    "# and display the top ten customers after sorting by medians \n",
    "product_values = new_valid.select(\"product_id\",\"reviews_count\")\n",
    "product_values_window = Window.partitionBy(product_values.product_id)\n",
    "product_median = func.expr('percentile_approx(reviews_count, 0.5)')\n",
    "\n",
    "product_values.withColumn('product_values_window', product_median.over(product_values_window)).drop(\"reviews_count\").distinct().orderBy(-func.col(\"product_values_window\")).limit(10).show()\n"
   ]
  },
  {
   "cell_type": "markdown",
   "metadata": {},
   "source": [
    "# Stage Three\n"
   ]
  },
  {
   "cell_type": "code",
   "execution_count": 39,
   "metadata": {
    "collapsed": false
   },
   "outputs": [
    {
     "data": {
      "application/vnd.jupyter.widget-view+json": {
       "model_id": "42c3f9ccea2943018a894f8873051425",
       "version_major": 2,
       "version_minor": 0
      },
      "text/plain": [
       "VBox()"
      ]
     },
     "metadata": {},
     "output_type": "display_data"
    }
   ],
   "source": [
    "import tensorflow as tf\n",
    "import tensorflow_hub as hub\n",
    "\n",
    "# use the chosen product to generate data of positive and negative class\n",
    "negative_text = valid_data.filter((valid_data.star_rating<=2)&(valid_data.product_id==chosen_product)).select('review_id','review_body')\n",
    "positive_text = valid_data.filter((valid_data.star_rating>=4)&(valid_data.product_id==chosen_product)).select('review_id','review_body')\n"
   ]
  },
  {
   "cell_type": "code",
   "execution_count": 40,
   "metadata": {
    "collapsed": false
   },
   "outputs": [
    {
     "data": {
      "application/vnd.jupyter.widget-view+json": {
       "model_id": "880adc769dcb4176be9e41de7d9b36fe",
       "version_major": 2,
       "version_minor": 0
      },
      "text/plain": [
       "VBox()"
      ]
     },
     "metadata": {},
     "output_type": "display_data"
    }
   ],
   "source": [
    "import re\n",
    "# to define sentence tokenization method\n",
    "puncts = [',', '.', '\"', ':', ')', '(', '!', '?', '|', ';', \"'\", '$', '&', '/', '[', ']', '>', '%', '=', '#', '*', '+', '\\\\', '•',  '~', '@', '£', \n",
    "  '_', '{', '}', '©', '^', '®', '`',  '<', '→', '°', '€', '™', '›',  '♥', '←', '×', '§', '″', 'Â', '█', '½', 'à', '…', \n",
    " '“', '★', '”', '–', '●', 'â', '►', '−', '¢', '²', '¬', '░', '¶', '↑', '±', '¿', '▾', '═', '¦', '║', '―', '¥', '▓', '—', '‹', '─', \n",
    " '▒', '：', '¼', '⊕', '▼', '▪', '†', '■', '’', '▀', '¨', '▄', '♫', '☆', 'é', '¯', '♦', '¤', '▲', 'è', '¸', '¾', 'Ã', '⋅', '‘', '∞', \n",
    "  '）', '↓', '、', '│', '（', '»', '，', '♪', '╩', '╚', '³', '・', '╦', '╣', '╔', '╗', '▬', '❤', 'ï', 'Ø', '¹', '≤', '‡', '√', ]\n",
    "\n",
    "# to split each review into sentences\n",
    "def senten(row):\n",
    "    text = row[1]\n",
    "    sentence = re.split(\"(?<!\\w\\.\\w.)(?<![A-Z][a-z]\\.)(?<=\\.|\\?)\\s\",text)\n",
    "    sentence = [s.replace('<br />','') for s in sentence]\n",
    "    sentence=[s for s in sentence if s not in puncts]\n",
    "    sentence = [s.lower().strip() for s in sentence if s!=\"\"]\n",
    "    return (row[0],sentence)\n",
    "\n",
    "# to remove punctuation\n",
    "def remove_punctuation(x):\n",
    "    x = str(x)\n",
    "    for punct in puncts:\n",
    "        if punct in x:\n",
    "            x = x.replace(punct, '')\n",
    "    return x"
   ]
  },
  {
   "cell_type": "code",
   "execution_count": 41,
   "metadata": {
    "collapsed": false
   },
   "outputs": [
    {
     "data": {
      "application/vnd.jupyter.widget-view+json": {
       "model_id": "00dd55c808bf4007a7062615a94c6ad7",
       "version_major": 2,
       "version_minor": 0
      },
      "text/plain": [
       "VBox()"
      ]
     },
     "metadata": {},
     "output_type": "display_data"
    }
   ],
   "source": [
    "# to transform dataframe into rdd\n",
    "negative_text_rdd = negative_text.rdd.map(lambda row:(row.review_id,row.review_body))\n",
    "positive_text_rdd = positive_text.rdd.map(lambda row:(row.review_id,row.review_body))"
   ]
  },
  {
   "cell_type": "code",
   "execution_count": 42,
   "metadata": {
    "collapsed": false
   },
   "outputs": [
    {
     "data": {
      "application/vnd.jupyter.widget-view+json": {
       "model_id": "a63ee71b5cb247a784d2a76df9eede67",
       "version_major": 2,
       "version_minor": 0
      },
      "text/plain": [
       "VBox()"
      ]
     },
     "metadata": {},
     "output_type": "display_data"
    }
   ],
   "source": [
    "# to split each review into setences and remove none review\n",
    "rev_clean_text_rdd_nega = negative_text_rdd.map(senten).filter(lambda data: data[1] is not None).cache()\n",
    "rev_clean_text_rdd_posi = positive_text_rdd.map(senten).filter(lambda data: data[1] is not None).cache()"
   ]
  },
  {
   "cell_type": "code",
   "execution_count": 43,
   "metadata": {
    "collapsed": false
   },
   "outputs": [
    {
     "data": {
      "application/vnd.jupyter.widget-view+json": {
       "model_id": "4f38b134161a4e7a82399839b80c4d29",
       "version_major": 2,
       "version_minor": 0
      },
      "text/plain": [
       "VBox()"
      ]
     },
     "metadata": {},
     "output_type": "display_data"
    }
   ],
   "source": [
    "# to tranform the list of sentences into lines\n",
    "rev_clean_flat_nega = rev_clean_text_rdd_nega.flatMapValues(lambda row :row)\n",
    "rev_clean_flat_posi = rev_clean_text_rdd_posi.flatMapValues(lambda row :row)"
   ]
  },
  {
   "cell_type": "code",
   "execution_count": 44,
   "metadata": {
    "collapsed": false
   },
   "outputs": [
    {
     "data": {
      "application/vnd.jupyter.widget-view+json": {
       "model_id": "06c8a631c48c4a5c977455f417efa7af",
       "version_major": 2,
       "version_minor": 0
      },
      "text/plain": [
       "VBox()"
      ]
     },
     "metadata": {},
     "output_type": "display_data"
    }
   ],
   "source": [
    "def review_embed(rev_text_partition):\n",
    "    # to get embedding vector from google pretrained model for each sentence\n",
    "    module_url = \"https://tfhub.dev/google/universal-sentence-encoder/2\" #@param [\"https://tfhub.dev/google/universal-sentence-encoder/2\", \"https://tfhub.dev/google/universal-sentence-encoder-large/3\"]\n",
    "    embed = hub.Module(module_url)\n",
    "    # mapPartition would supply element inside a partition using generator stype\n",
    "    # this does not fit tensorflow stype\n",
    "    rev_text_list = [text for text in rev_text_partition]\n",
    "    print(rev_text_list)\n",
    "    with tf.Session() as session:\n",
    "        session.run([tf.global_variables_initializer(), tf.tables_initializer()])\n",
    "        message_embeddings = session.run(embed(rev_text_list))\n",
    "    return message_embeddings"
   ]
  },
  {
   "cell_type": "code",
   "execution_count": 45,
   "metadata": {
    "collapsed": false
   },
   "outputs": [
    {
     "data": {
      "application/vnd.jupyter.widget-view+json": {
       "model_id": "04589d9d7189401bab17b499f9ff0d37",
       "version_major": 2,
       "version_minor": 0
      },
      "text/plain": [
       "VBox()"
      ]
     },
     "metadata": {},
     "output_type": "display_data"
    }
   ],
   "source": [
    "from pyspark.mllib.linalg.distributed import IndexedRowMatrix\n",
    "from pyspark.mllib.linalg import Vectors\n",
    "\n",
    "def get_similarity(rev_clean_flat):\n",
    "    # to compute the similarity of each class\n",
    "    review_id_rdd = rev_clean_flat.map(lambda row:row[0])\n",
    "    dims = review_id_rdd.count()\n",
    "    review_id_text = rev_clean_flat.map(lambda row:row[1])\n",
    "    review_embedding = review_id_text.mapPartitions(review_embed).cache()\n",
    "    index_embedding = review_embedding.zipWithIndex()    \n",
    "    # transform rdd into blockmatrix\n",
    "    mat = IndexedRowMatrix(index_embedding.map(lambda xi:(xi[1], Vectors.dense(xi[0])))).toBlockMatrix()\n",
    "    # to compute similarity matrix   \n",
    "    dot = mat.multiply(mat.transpose())\n",
    "    mean_sum = dot.blocks.map(lambda row:(row[0],(1-np.round(row[1].toArray(),2)).sum())).map(lambda row : row[1])\n",
    "    summ = mean_sum.sum()\n",
    "    return float(summ/((dims -1)*dims))"
   ]
  },
  {
   "cell_type": "code",
   "execution_count": 46,
   "metadata": {
    "collapsed": false
   },
   "outputs": [
    {
     "data": {
      "application/vnd.jupyter.widget-view+json": {
       "model_id": "653d67b94adf43fd974c687c5e71996f",
       "version_major": 2,
       "version_minor": 0
      },
      "text/plain": [
       "VBox()"
      ]
     },
     "metadata": {},
     "output_type": "display_data"
    }
   ],
   "source": [
    "nega_simi = get_similarity(rev_clean_flat_nega)"
   ]
  },
  {
   "cell_type": "code",
   "execution_count": 47,
   "metadata": {
    "collapsed": false
   },
   "outputs": [
    {
     "data": {
      "application/vnd.jupyter.widget-view+json": {
       "model_id": "95cc34f3c005494a9d00b22aab1bc260",
       "version_major": 2,
       "version_minor": 0
      },
      "text/plain": [
       "VBox()"
      ]
     },
     "metadata": {},
     "output_type": "display_data"
    },
    {
     "name": "stdout",
     "output_type": "stream",
     "text": [
      "0.6684095740731006"
     ]
    }
   ],
   "source": [
    "nega_simi"
   ]
  },
  {
   "cell_type": "code",
   "execution_count": 48,
   "metadata": {
    "collapsed": false
   },
   "outputs": [
    {
     "data": {
      "application/vnd.jupyter.widget-view+json": {
       "model_id": "611fb6fe601c48ab92e02e2178b1537a",
       "version_major": 2,
       "version_minor": 0
      },
      "text/plain": [
       "VBox()"
      ]
     },
     "metadata": {},
     "output_type": "display_data"
    }
   ],
   "source": [
    "posi_simi = get_similarity(rev_clean_flat_posi)"
   ]
  },
  {
   "cell_type": "code",
   "execution_count": 49,
   "metadata": {
    "collapsed": false
   },
   "outputs": [
    {
     "data": {
      "application/vnd.jupyter.widget-view+json": {
       "model_id": "6f6a13f471bf4b41a0dc96352cb2ad18",
       "version_major": 2,
       "version_minor": 0
      },
      "text/plain": [
       "VBox()"
      ]
     },
     "metadata": {},
     "output_type": "display_data"
    },
    {
     "name": "stdout",
     "output_type": "stream",
     "text": [
      "0.6273248936869297"
     ]
    }
   ],
   "source": [
    "posi_simi"
   ]
  },
  {
   "cell_type": "code",
   "execution_count": 50,
   "metadata": {
    "collapsed": false
   },
   "outputs": [
    {
     "data": {
      "application/vnd.jupyter.widget-view+json": {
       "model_id": "990994845f3d44fab14b8afd1aaf5474",
       "version_major": 2,
       "version_minor": 0
      },
      "text/plain": [
       "VBox()"
      ]
     },
     "metadata": {},
     "output_type": "display_data"
    }
   ],
   "source": [
    "import itertools\n",
    "def get_center_and_top_ten(rev_clean_flat):\n",
    "    # to get the center and top ten sentences\n",
    "    review_id_rdd = rev_clean_flat.map(lambda row:row[0])\n",
    "    review_id_text = rev_clean_flat.map(lambda row:row[1])\n",
    "    review_embedding = review_id_text.mapPartitions(review_embed).cache()\n",
    "    index_embedding = review_embedding.zipWithIndex()\n",
    "    # transform rdd into blockmatrix\n",
    "    mat = IndexedRowMatrix(index_embedding.map(lambda xi:(xi[1], Vectors.dense(xi[0])))).toBlockMatrix()\n",
    "    # to compute similarity matrix   \n",
    "    dot = mat.multiply(mat.transpose())\n",
    "    dot_ori = dot.blocks.map(lambda row:(row[0],(1-np.round(row[1].toArray(),2))))\n",
    "    mean_dot = dot.blocks.map(lambda row:(row[0],(1-np.round(row[1].toArray(),2).mean(axis=1))))\n",
    "    mean_sort = mean_dot.sortByKey()\n",
    "    mean_rdd = mean_sort.map(lambda row: (row[0][0],row[1]))\n",
    "    shape_list = mean_rdd.groupByKey().map(lambda row:(row[0],np.mean(list(row[1]),axis=0).shape)).collect()\n",
    "    shape_value_li = []\n",
    "    shape_value=0\n",
    "    for i in range(len(shape_list)):\n",
    "        shape_value_li.append(shape_value)\n",
    "        shape_value = shape_list[i][1][0]+shape_value\n",
    "        \n",
    "    combine_rdd = mean_rdd.groupByKey().map(lambda row:(row[0],np.mean(list(row[1]),axis=0)))\n",
    "    min_rdd= combine_rdd.map(lambda row:(row[0],np.argmin(row[1]),row[1].min()))\n",
    "    min_value = min_rdd.map(lambda row:row[2]).min()\n",
    "    min_result= min_rdd.filter(lambda row:row[2]==min_value)\n",
    "    min_end = min_result.map(lambda row :(row[0],row[1],row[2],row[1]+shape_value_li[row[0]])).collect()\n",
    "    review_find = rev_clean_flat.zipWithIndex()\n",
    "    final_li = []\n",
    "    for each in min_end:\n",
    "        re = review_find.filter(lambda row:row[1]==each[3]).collect()[0]\n",
    "        final_li.append(re)\n",
    "    dot_tra = dot_ori.filter(lambda row :row[0][0]==min_end[0][0])\n",
    "    dot_tra_sort = dot_tra.map(lambda row:(row[0],row[1][min_end[0][1],:])).sortByKey()\n",
    "    # to get the similarity of the centre sentence with other sentences\n",
    "    one_array = dot_tra_sort.map(lambda row: (row[0][0],row[1])).groupByKey().map(lambda row:(row[0],list(itertools.chain.from_iterable(list(row[1]))))).collect()\n",
    "    sort_index = np.argsort(one_array[0][1])\n",
    "    sort_index[:10]\n",
    "    top_ten = review_find.filter(lambda row:row[1] in sort_index[:10]).collect()\n",
    "    return final_li, top_ten"
   ]
  },
  {
   "cell_type": "code",
   "execution_count": 51,
   "metadata": {
    "collapsed": false
   },
   "outputs": [
    {
     "data": {
      "application/vnd.jupyter.widget-view+json": {
       "model_id": "397c04da24214accaf40e29c9438c7e2",
       "version_major": 2,
       "version_minor": 0
      },
      "text/plain": [
       "VBox()"
      ]
     },
     "metadata": {},
     "output_type": "display_data"
    }
   ],
   "source": [
    "nega_center, nega_top_ten = get_center_and_top_ten(rev_clean_flat_nega)\n",
    "# nearly 70secs"
   ]
  },
  {
   "cell_type": "code",
   "execution_count": 52,
   "metadata": {
    "collapsed": false
   },
   "outputs": [
    {
     "data": {
      "application/vnd.jupyter.widget-view+json": {
       "model_id": "5fa234de81e94c7480c2a4c273e54c8f",
       "version_major": 2,
       "version_minor": 0
      },
      "text/plain": [
       "VBox()"
      ]
     },
     "metadata": {},
     "output_type": "display_data"
    },
    {
     "name": "stdout",
     "output_type": "stream",
     "text": [
      "[(('R2L4PZC7CHGQ4R', 'this album is much too insipid for people who like to listen to real music.'), 1763)]"
     ]
    }
   ],
   "source": [
    "nega_center"
   ]
  },
  {
   "cell_type": "code",
   "execution_count": 53,
   "metadata": {
    "collapsed": false
   },
   "outputs": [
    {
     "data": {
      "application/vnd.jupyter.widget-view+json": {
       "model_id": "d305893be0774c6c9deaad047666d8de",
       "version_major": 2,
       "version_minor": 0
      },
      "text/plain": [
       "VBox()"
      ]
     },
     "metadata": {},
     "output_type": "display_data"
    },
    {
     "name": "stdout",
     "output_type": "stream",
     "text": [
      "[(('R1CA8OIEZ0B22Y', 'i do like blink 182 but most of this type of this music is junk.'), 251), (('R2UBEJ5JX4PKX1', 'almost everything that is wrong with mainstream music today, is represented in this album.'), 668), (('R195DYX83KWYXU', 'simply put, this album is mediocre at best.'), 671), (('R1DP63VJ4NXY44', 'this album absolutely sucks.'), 1049), (('R1DP63VJ4NXY44', 'this album is full of teeny-bopper pop songs disguised as rock.'), 1052), (('R2L4PZC7CHGQ4R', 'this album is much too insipid for people who like to listen to real music.'), 1763), (('RKN17VFTZQ69P', 'this album is horrid.'), 1802), (('R36BAXRVCR2PFB', \"i bet most people who like this album don't even like real punk.\"), 2295), (('RIQZE81DD7ZM7', \"while i haven't heard all of the album, this is the worst band i've heard in a long, long time.\"), 2342), (('R3QG1GKJO8IL4K', 'this album has in no way let down that genre.'), 2697)]"
     ]
    }
   ],
   "source": [
    "nega_top_ten"
   ]
  },
  {
   "cell_type": "code",
   "execution_count": 54,
   "metadata": {
    "collapsed": false
   },
   "outputs": [
    {
     "data": {
      "application/vnd.jupyter.widget-view+json": {
       "model_id": "185518990a864a46aade7934643850f4",
       "version_major": 2,
       "version_minor": 0
      },
      "text/plain": [
       "VBox()"
      ]
     },
     "metadata": {},
     "output_type": "display_data"
    }
   ],
   "source": [
    "posi_center, posi_top_ten = get_center_and_top_ten(rev_clean_flat_posi)\n",
    "# nearly 150secs"
   ]
  },
  {
   "cell_type": "code",
   "execution_count": 55,
   "metadata": {
    "collapsed": false
   },
   "outputs": [
    {
     "data": {
      "application/vnd.jupyter.widget-view+json": {
       "model_id": "9b9e41ae9b3d4e40868516c4f8bdfec2",
       "version_major": 2,
       "version_minor": 0
      },
      "text/plain": [
       "VBox()"
      ]
     },
     "metadata": {},
     "output_type": "display_data"
    },
    {
     "name": "stdout",
     "output_type": "stream",
     "text": [
      "[(('R37U2GX41AYFFX', 'this is the ultimate teenage-punk rock cd! every song on the album is awesome and they all put you in a great mood.'), 6266)]"
     ]
    }
   ],
   "source": [
    "posi_center"
   ]
  },
  {
   "cell_type": "code",
   "execution_count": 56,
   "metadata": {
    "collapsed": false
   },
   "outputs": [
    {
     "data": {
      "application/vnd.jupyter.widget-view+json": {
       "model_id": "a4ce6d869aea42d99f49e7e18d70042d",
       "version_major": 2,
       "version_minor": 0
      },
      "text/plain": [
       "VBox()"
      ]
     },
     "metadata": {},
     "output_type": "display_data"
    },
    {
     "name": "stdout",
     "output_type": "stream",
     "text": [
      "[(('R26NH9N60MEQ62', 'every song on this album is a gem.'), 267), (('R1LAMC7N0Y96VI', 'this album has some awesome songs.'), 1921), (('R2GCQ3PS817XG9', 'you will seriously love this cd, their single &quot;lifestyles&quot; is not the best song on the cd by far, and every song gets better and better.'), 4506), (('RJ36U6FAGB2X0', 'every song on this album is a great song, performed by gc very well.'), 5277), (('R37U2GX41AYFFX', 'this is the ultimate teenage-punk rock cd! every song on the album is awesome and they all put you in a great mood.'), 6266), (('ROP2FJT2NDY54', 'if you are into the pop-punk sence you will totally love this album! all the songs are super caughty! not only that, the lyrics  are awesome.'), 7223), (('R2UFCYJ6OB21MB', 'this album is such a great follow up to their last cd.'), 7272), (('R1CETHVJRP6CYR', 'this cd is amazing and the songs are so perfect.'), 7312), (('R30ROGEEP9Z4K6', 'i like every song on the cd, and, i really like their first album, i think this one is my favorite!!'), 7609), (('R32NXZWC3RKH76', 'this cd is great! every song is awesome.'), 8000)]"
     ]
    }
   ],
   "source": [
    "posi_top_ten"
   ]
  },
  {
   "cell_type": "markdown",
   "metadata": {},
   "source": [
    "# Stage Four"
   ]
  },
  {
   "cell_type": "code",
   "execution_count": 57,
   "metadata": {
    "collapsed": false
   },
   "outputs": [
    {
     "data": {
      "application/vnd.jupyter.widget-view+json": {
       "model_id": "c7fe22bd105c4580901c9720c19d8d8f",
       "version_major": 2,
       "version_minor": 0
      },
      "text/plain": [
       "VBox()"
      ]
     },
     "metadata": {},
     "output_type": "display_data"
    }
   ],
   "source": [
    "from pyspark.ml.feature import Word2Vec\n",
    "# word embedding method from pyspark machine learning tools\n",
    "word2Vec = Word2Vec(vectorSize=10, minCount=0, inputCol=\"sentence\", outputCol=\"result\")\n"
   ]
  },
  {
   "cell_type": "code",
   "execution_count": 58,
   "metadata": {
    "collapsed": false
   },
   "outputs": [
    {
     "data": {
      "application/vnd.jupyter.widget-view+json": {
       "model_id": "5b4393b659554688bac60fe1ec0c72c0",
       "version_major": 2,
       "version_minor": 0
      },
      "text/plain": [
       "VBox()"
      ]
     },
     "metadata": {},
     "output_type": "display_data"
    }
   ],
   "source": [
    "def get_similarity_2(rev_clean_flat):\n",
    "    # to compute the similarity of each class\n",
    "    df = rev_clean_flat.map(lambda row:(row[0],row[1].split())).toDF()\n",
    "    df = df.withColumnRenamed('_1','review_id')\\\n",
    "                    .withColumnRenamed('_2','sentence')\n",
    "    result = word2Vec.fit(df).transform(df)\n",
    "    result_embedding = result.select(\"result\").rdd.map(lambda row:row[0])\n",
    "    dims = result_embedding.count()\n",
    "    index_embedding = result_embedding.zipWithIndex()\n",
    "    mat = IndexedRowMatrix(index_embedding.map(lambda xi:(xi[1], Vectors.dense(xi[0])))).toBlockMatrix()\n",
    "    dot = mat.multiply(mat.transpose())\n",
    "    mean_sum = dot.blocks.map(lambda row:(row[0],(1-np.round(row[1].toArray(),2)).sum())).map(lambda row : row[1])\n",
    "    summ = mean_sum.sum()\n",
    "    return float(summ/((dims -1)*dims))"
   ]
  },
  {
   "cell_type": "code",
   "execution_count": 59,
   "metadata": {
    "collapsed": false
   },
   "outputs": [
    {
     "data": {
      "application/vnd.jupyter.widget-view+json": {
       "model_id": "303b7af820554a14b6ecdbf672b6d18b",
       "version_major": 2,
       "version_minor": 0
      },
      "text/plain": [
       "VBox()"
      ]
     },
     "metadata": {},
     "output_type": "display_data"
    }
   ],
   "source": [
    "nega_simi = get_similarity_2(rev_clean_flat_nega)\n",
    "posi_simi = get_similarity_2(rev_clean_flat_posi)"
   ]
  },
  {
   "cell_type": "code",
   "execution_count": 60,
   "metadata": {
    "collapsed": false
   },
   "outputs": [
    {
     "data": {
      "application/vnd.jupyter.widget-view+json": {
       "model_id": "526401983a11451f8c4bf3ca31831fd3",
       "version_major": 2,
       "version_minor": 0
      },
      "text/plain": [
       "VBox()"
      ]
     },
     "metadata": {},
     "output_type": "display_data"
    },
    {
     "name": "stdout",
     "output_type": "stream",
     "text": [
      "0.9657621852522112\n",
      "0.9270432099408139"
     ]
    }
   ],
   "source": [
    "print(nega_simi)\n",
    "print(posi_simi)"
   ]
  },
  {
   "cell_type": "code",
   "execution_count": 61,
   "metadata": {
    "collapsed": false
   },
   "outputs": [
    {
     "data": {
      "application/vnd.jupyter.widget-view+json": {
       "model_id": "ab13f8bb640c40859cdc5acc41a9a747",
       "version_major": 2,
       "version_minor": 0
      },
      "text/plain": [
       "VBox()"
      ]
     },
     "metadata": {},
     "output_type": "display_data"
    }
   ],
   "source": [
    "def get_center_and_top_ten_2(rev_clean_flat):\n",
    "    # to get the center and top ten sentences\n",
    "    df = rev_clean_flat.map(lambda row:(row[0],row[1].split())).toDF()\n",
    "    df = df.withColumnRenamed('_1','review_id')\\\n",
    "                    .withColumnRenamed('_2','sentence')\n",
    "    result = word2Vec.fit(df).transform(df)\n",
    "    result_embedding = result.select(\"result\").rdd.map(lambda row:row[0])\n",
    "    index_result_embedding = result_embedding.zipWithIndex()\n",
    "    # transform rdd into blockmatrix\n",
    "    mat = IndexedRowMatrix(index_result_embedding.map(lambda xi:(xi[1], Vectors.dense(xi[0])))).toBlockMatrix()\n",
    "    # to compute similarity matrix \n",
    "    dot = mat.multiply(mat.transpose())\n",
    "    dot_ori = dot.blocks.map(lambda row:(row[0],(1-np.round(row[1].toArray(),2))))\n",
    "    mean_dot = dot.blocks.map(lambda row:(row[0],(1-np.round(row[1].toArray(),2).mean(axis=1))))\n",
    "    mean_sort = mean_dot.sortByKey()\n",
    "    mean_rdd = mean_sort.map(lambda row: (row[0][0],row[1]))\n",
    "    shape_list = mean_rdd.groupByKey().map(lambda row:(row[0],np.mean(list(row[1]),axis=0).shape)).collect()\n",
    "    shape_value_li = []\n",
    "    shape_value=0\n",
    "    for i in range(len(shape_list)):\n",
    "        shape_value_li.append(shape_value)\n",
    "        shape_value = shape_list[i][1][0]+shape_value\n",
    "        \n",
    "    combine_rdd = mean_rdd.groupByKey().map(lambda row:(row[0],np.mean(list(row[1]),axis=0)))\n",
    "    min_rdd= combine_rdd.map(lambda row:(row[0],np.argmin(row[1]),row[1].min()))\n",
    "    min_value = min_rdd.map(lambda row:row[2]).min()\n",
    "    min_result= min_rdd.filter(lambda row:row[2]==min_value)\n",
    "    min_end = min_result.map(lambda row :(row[0],row[1],row[2],row[1]+shape_value_li[row[0]])).collect()\n",
    "    review_find = rev_clean_flat.zipWithIndex()\n",
    "    final_li = []\n",
    "    for each in min_end:\n",
    "        re = review_find.filter(lambda row:row[1]==each[3]).collect()[0]\n",
    "        final_li.append(re)\n",
    "    dot_tra = dot_ori.filter(lambda row :row[0][0]==min_end[0][0])\n",
    "    dot_tra_sort = dot_tra.map(lambda row:(row[0],row[1][min_end[0][1],:])).sortByKey()\n",
    "    one_array = dot_tra_sort.map(lambda row: (row[0][0],row[1])).groupByKey().map(lambda row:(row[0],list(itertools.chain.from_iterable(list(row[1]))))).collect()\n",
    "    # to get the similarity of the centre sentence with other sentences\n",
    "    sort_index = np.argsort(one_array[0][1])\n",
    "    sort_index[:10]\n",
    "    top_ten = review_find.filter(lambda row:row[1] in sort_index[:10]).collect()\n",
    "    return final_li, top_ten"
   ]
  },
  {
   "cell_type": "code",
   "execution_count": 62,
   "metadata": {
    "collapsed": false
   },
   "outputs": [
    {
     "data": {
      "application/vnd.jupyter.widget-view+json": {
       "model_id": "1b888e8c96f8489589d5ff355d53d0f7",
       "version_major": 2,
       "version_minor": 0
      },
      "text/plain": [
       "VBox()"
      ]
     },
     "metadata": {},
     "output_type": "display_data"
    }
   ],
   "source": [
    "nega_center, nega_top_ten = get_center_and_top_ten_2(rev_clean_flat_nega)"
   ]
  },
  {
   "cell_type": "code",
   "execution_count": 63,
   "metadata": {
    "collapsed": false
   },
   "outputs": [
    {
     "data": {
      "application/vnd.jupyter.widget-view+json": {
       "model_id": "3fb65a49f40849ada2f076a56c3bfd1a",
       "version_major": 2,
       "version_minor": 0
      },
      "text/plain": [
       "VBox()"
      ]
     },
     "metadata": {},
     "output_type": "display_data"
    },
    {
     "name": "stdout",
     "output_type": "stream",
     "text": [
      "[(('R3TGKXFANRDKW5', 'good charlotte.'), 1293)]"
     ]
    }
   ],
   "source": [
    "nega_center"
   ]
  },
  {
   "cell_type": "code",
   "execution_count": 64,
   "metadata": {
    "collapsed": false
   },
   "outputs": [
    {
     "data": {
      "application/vnd.jupyter.widget-view+json": {
       "model_id": "257b19c7957b405d995f859999a8cbe4",
       "version_major": 2,
       "version_minor": 0
      },
      "text/plain": [
       "VBox()"
      ]
     },
     "metadata": {},
     "output_type": "display_data"
    },
    {
     "name": "stdout",
     "output_type": "stream",
     "text": [
      "[(('R1OZJCQTH9OF18', 'sorry, good charlotte.'), 721), (('RJ0PKJ2DZ5TR1', 'but good charlotte?'), 765), (('R3N6ON37QCDDG3', 'good charlotte?'), 885), (('R3TGKXFANRDKW5', 'good charlotte.'), 1293), (('R2JP0QD8H6AVAX', \"but good charlotte isn't punk, never will be.\"), 1360), (('R36BAXRVCR2PFB', 'good charlotte just sucks.'), 2298), (('R3FLONYQEL55MJ', 'i hate good charlotte.'), 2354), (('R10YGSFHSWO4WY', 'and good charlotte'), 2597), (('R39XLG4BT6T792', 'and good charlotte'), 2611), (('R1AV8H99BV69M', \"good charlotte isn't origanal.\"), 2684)]"
     ]
    }
   ],
   "source": [
    "nega_top_ten"
   ]
  },
  {
   "cell_type": "code",
   "execution_count": 65,
   "metadata": {
    "collapsed": false
   },
   "outputs": [
    {
     "data": {
      "application/vnd.jupyter.widget-view+json": {
       "model_id": "3e7351b501ad46a1b6106052d398ffab",
       "version_major": 2,
       "version_minor": 0
      },
      "text/plain": [
       "VBox()"
      ]
     },
     "metadata": {},
     "output_type": "display_data"
    }
   ],
   "source": [
    "posi_center, posi_top_ten = get_center_and_top_ten_2(rev_clean_flat_posi)"
   ]
  },
  {
   "cell_type": "code",
   "execution_count": 66,
   "metadata": {
    "collapsed": false
   },
   "outputs": [
    {
     "data": {
      "application/vnd.jupyter.widget-view+json": {
       "model_id": "ce4d8832cd2a4af39b94d564ca88dab0",
       "version_major": 2,
       "version_minor": 0
      },
      "text/plain": [
       "VBox()"
      ]
     },
     "metadata": {},
     "output_type": "display_data"
    },
    {
     "name": "stdout",
     "output_type": "stream",
     "text": [
      "[(('R3OSCPFNN3SAAS', 'this is it.'), 1165)]"
     ]
    }
   ],
   "source": [
    "posi_center"
   ]
  },
  {
   "cell_type": "code",
   "execution_count": 67,
   "metadata": {
    "collapsed": false
   },
   "outputs": [
    {
     "data": {
      "application/vnd.jupyter.widget-view+json": {
       "model_id": "99c39931afbd41b7afb8f2f80f356718",
       "version_major": 2,
       "version_minor": 0
      },
      "text/plain": [
       "VBox()"
      ]
     },
     "metadata": {},
     "output_type": "display_data"
    },
    {
     "name": "stdout",
     "output_type": "stream",
     "text": [
      "[(('R2IY8FU1SFU5II', 'i liked this cd.'), 314), (('RCXLMZAFFJCSY', 'i love this cd.'), 1088), (('R3OSCPFNN3SAAS', 'this is it.'), 1165), (('R15LF2TJRWE89', 'i would recommend this cd.'), 1313), (('R31HVXI2N5FV31', 'buy this cd.'), 2697), (('R3CXU9ZFE573IT', 'i highly recommend this cd.'), 4098), (('R27JZ8EENE85GU', 'buy this cd.'), 4248), (('R3KN4RF2NKW2IM', 'i love this cd.'), 4915), (('RWQ1S1163KYQ6', 'i highly recommend this cd.'), 6691), (('R2FY7K8OIYG0E3', 'i love this cd.'), 7918)]"
     ]
    }
   ],
   "source": [
    "posi_top_ten"
   ]
  },
  {
   "cell_type": "code",
   "execution_count": null,
   "metadata": {
    "collapsed": true
   },
   "outputs": [],
   "source": []
  }
 ],
 "metadata": {
  "kernelspec": {
   "display_name": "PySpark",
   "language": "",
   "name": "pysparkkernel"
  },
  "language_info": {
   "codemirror_mode": {
    "name": "python",
    "version": 2
   },
   "mimetype": "text/x-python",
   "name": "pyspark",
   "pygments_lexer": "python2"
  }
 },
 "nbformat": 4,
 "nbformat_minor": 2
}
